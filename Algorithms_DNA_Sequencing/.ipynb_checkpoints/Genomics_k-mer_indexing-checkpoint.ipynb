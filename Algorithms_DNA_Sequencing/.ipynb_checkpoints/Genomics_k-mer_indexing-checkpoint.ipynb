{
 "cells": [
  {
   "cell_type": "code",
   "execution_count": 5,
   "id": "cbcd0c56",
   "metadata": {},
   "outputs": [],
   "source": [
    "import bisect"
   ]
  },
  {
   "cell_type": "code",
   "execution_count": 10,
   "id": "88eebd90",
   "metadata": {},
   "outputs": [],
   "source": [
    "class Index(object):\n",
    "    def __init__(self,t,k):\n",
    "        self.k=k\n",
    "        self.index=[]\n",
    "        for i in range(len(t)-k+1):\n",
    "            self.index.append((t[i:i+k],i))\n",
    "        self.index.sort()\n",
    "        \n",
    "    def query(self,p):\n",
    "        kmer=p[:self.k]\n",
    "        i=bisect.bisect_left(self.index,(kmer,-1))\n",
    "        hits=[]\n",
    "        while i<len(self.index):\n",
    "            if self.index[i][0]!= kmer:    #if its not the right tuple, break out of function\n",
    "                break\n",
    "            hits.append(self.index[i][1])  #We're appedning the offsets corresponding to the hits \n",
    "            i+=1\n",
    "        return hits"
   ]
  },
  {
   "cell_type": "code",
   "execution_count": 11,
   "id": "705ae8c6",
   "metadata": {},
   "outputs": [],
   "source": [
    "def QueryIndex(p,t,index):\n",
    "    k=index.k\n",
    "    offsets=[]\n",
    "    for i in index.query(p):\n",
    "        if p[k:]==t[i+k:i+len(p)]:  #Verification step, verifying that all the bases after the kmer in hte pattern match with that of t\n",
    "            offsets.append(i)       # Only append the offsets where the verification holds true\n",
    "    return offsets"
   ]
  },
  {
   "cell_type": "code",
   "execution_count": 12,
   "id": "13dbd8ab",
   "metadata": {},
   "outputs": [
    {
     "data": {
      "text/plain": [
       "2"
      ]
     },
     "execution_count": 12,
     "metadata": {},
     "output_type": "execute_result"
    }
   ],
   "source": [
    "index=[('AGGTGCT',0),('GTTACGT',1),('AGCTCA',2)]\n",
    "index[2][1]"
   ]
  },
  {
   "cell_type": "code",
   "execution_count": 13,
   "id": "80a5a2d5",
   "metadata": {},
   "outputs": [
    {
     "data": {
      "text/plain": [
       "[7, 16]"
      ]
     },
     "execution_count": 13,
     "metadata": {},
     "output_type": "execute_result"
    }
   ],
   "source": [
    "t='GTCAGTCGGACTTACGGGAC'\n",
    "p='GGAC'\n",
    "index=Index(t,2)\n",
    "QueryIndex(p,t,index)"
   ]
  },
  {
   "cell_type": "code",
   "execution_count": 15,
   "id": "15f0f67d",
   "metadata": {},
   "outputs": [
    {
     "data": {
      "text/plain": [
       "'GGAC'"
      ]
     },
     "execution_count": 15,
     "metadata": {},
     "output_type": "execute_result"
    }
   ],
   "source": [
    "t[16:20]"
   ]
  },
  {
   "cell_type": "code",
   "execution_count": null,
   "id": "9514f5ff",
   "metadata": {},
   "outputs": [],
   "source": []
  }
 ],
 "metadata": {
  "kernelspec": {
   "display_name": "Python 3 (ipykernel)",
   "language": "python",
   "name": "python3"
  },
  "language_info": {
   "codemirror_mode": {
    "name": "ipython",
    "version": 3
   },
   "file_extension": ".py",
   "mimetype": "text/x-python",
   "name": "python",
   "nbconvert_exporter": "python",
   "pygments_lexer": "ipython3",
   "version": "3.9.7"
  }
 },
 "nbformat": 4,
 "nbformat_minor": 5
}
