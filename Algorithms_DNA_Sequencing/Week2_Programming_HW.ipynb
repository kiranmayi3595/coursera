{
 "cells": [
  {
   "cell_type": "code",
   "execution_count": 1,
   "id": "8ca73b3e",
   "metadata": {},
   "outputs": [],
   "source": [
    "#!/usr/bin/env python\n",
    "\n",
    "\"\"\"bm_preproc.py: Boyer-Moore preprocessing.\"\"\"\n",
    "\n",
    "__author__ = \"Ben Langmead\"\n",
    "\n",
    "import unittest\n",
    "\n",
    "\n",
    "def z_array(s):\n",
    "    \"\"\" Use Z algorithm (Gusfield theorem 1.4.1) to preprocess s \"\"\"\n",
    "    assert len(s) > 1\n",
    "    z = [len(s)] + [0] * (len(s)-1)\n",
    "\n",
    "    # Initial comparison of s[1:] with prefix\n",
    "    for i in range(1, len(s)):\n",
    "        if s[i] == s[i-1]:\n",
    "            z[1] += 1\n",
    "        else:\n",
    "            break\n",
    "\n",
    "    r, l = 0, 0\n",
    "    if z[1] > 0:\n",
    "        r, l = z[1], 1\n",
    "\n",
    "    for k in range(2, len(s)):\n",
    "        assert z[k] == 0\n",
    "        if k > r:\n",
    "            # Case 1\n",
    "            for i in range(k, len(s)):\n",
    "                if s[i] == s[i-k]:\n",
    "                    z[k] += 1\n",
    "                else:\n",
    "                    break\n",
    "            r, l = k + z[k] - 1, k\n",
    "        else:\n",
    "            # Case 2\n",
    "            # Calculate length of beta\n",
    "            nbeta = r - k + 1\n",
    "            zkp = z[k - l]\n",
    "            if nbeta > zkp:\n",
    "                # Case 2a: zkp wins\n",
    "                z[k] = zkp\n",
    "            else:\n",
    "                # Case 2b: Compare characters just past r\n",
    "                nmatch = 0\n",
    "                for i in range(r+1, len(s)):\n",
    "                    if s[i] == s[i - k]:\n",
    "                        nmatch += 1\n",
    "                    else:\n",
    "                        break\n",
    "                l, r = k, r + nmatch\n",
    "                z[k] = r - k + 1\n",
    "    return z\n",
    "\n",
    "\n",
    "def n_array(s):\n",
    "    \"\"\" Compile the N array (Gusfield theorem 2.2.2) from the Z array \"\"\"\n",
    "    return z_array(s[::-1])[::-1]\n",
    "\n",
    "\n",
    "def big_l_prime_array(p, n):\n",
    "    \"\"\" Compile L' array (Gusfield theorem 2.2.2) using p and N array.\n",
    "        L'[i] = largest index j less than n such that N[j] = |P[i:]| \"\"\"\n",
    "    lp = [0] * len(p)\n",
    "    for j in range(len(p)-1):\n",
    "        i = len(p) - n[j]\n",
    "        if i < len(p):\n",
    "            lp[i] = j + 1\n",
    "    return lp\n",
    "\n",
    "\n",
    "def big_l_array(p, lp):\n",
    "    \"\"\" Compile L array (Gusfield theorem 2.2.2) using p and L' array.\n",
    "        L[i] = largest index j less than n such that N[j] >= |P[i:]| \"\"\"\n",
    "    l = [0] * len(p)\n",
    "    l[1] = lp[1]\n",
    "    for i in range(2, len(p)):\n",
    "        l[i] = max(l[i-1], lp[i])\n",
    "    return l\n",
    "\n",
    "\n",
    "def small_l_prime_array(n):\n",
    "    \"\"\" Compile lp' array (Gusfield theorem 2.2.4) using N array. \"\"\"\n",
    "    small_lp = [0] * len(n)\n",
    "    for i in range(len(n)):\n",
    "        if n[i] == i+1:  # prefix matching a suffix\n",
    "            small_lp[len(n)-i-1] = i+1\n",
    "    for i in range(len(n)-2, -1, -1):  # \"smear\" them out to the left\n",
    "        if small_lp[i] == 0:\n",
    "            small_lp[i] = small_lp[i+1]\n",
    "    return small_lp\n",
    "\n",
    "\n",
    "def good_suffix_table(p):\n",
    "    \"\"\" Return tables needed to apply good suffix rule. \"\"\"\n",
    "    n = n_array(p)\n",
    "    lp = big_l_prime_array(p, n)\n",
    "    return lp, big_l_array(p, lp), small_l_prime_array(n)\n",
    "\n",
    "\n",
    "def good_suffix_mismatch(i, big_l_prime, small_l_prime):\n",
    "    \"\"\" Given a mismatch at offset i, and given L/L' and l' arrays,\n",
    "        return amount to shift as determined by good suffix rule. \"\"\"\n",
    "    length = len(big_l_prime)\n",
    "    assert i < length\n",
    "    if i == length - 1:\n",
    "        return 0\n",
    "    i += 1  # i points to leftmost matching position of P\n",
    "    if big_l_prime[i] > 0:\n",
    "        return length - big_l_prime[i]\n",
    "    return length - small_l_prime[i]\n",
    "\n",
    "\n",
    "def good_suffix_match(small_l_prime):\n",
    "    \"\"\" Given a full match of P to T, return amount to shift as\n",
    "        determined by good suffix rule. \"\"\"\n",
    "    return len(small_l_prime) - small_l_prime[1]\n",
    "\n",
    "\n",
    "def dense_bad_char_tab(p, amap):\n",
    "    \"\"\" Given pattern string and list with ordered alphabet characters, create\n",
    "        and return a dense bad character table.  Table is indexed by offset\n",
    "        then by character. \"\"\"\n",
    "    tab = []\n",
    "    nxt = [0] * len(amap)\n",
    "    for i in range(0, len(p)):\n",
    "        c = p[i]\n",
    "        assert c in amap\n",
    "        tab.append(nxt[:])\n",
    "        nxt[amap[c]] = i+1\n",
    "    return tab\n",
    "\n",
    "\n",
    "class BoyerMoore(object):\n",
    "    \"\"\" Encapsulates pattern and associated Boyer-Moore preprocessing. \"\"\"\n",
    "\n",
    "    def __init__(self, p, alphabet='ACGT'):\n",
    "        # Create map from alphabet characters to integers\n",
    "        self.amap = {alphabet[i]: i for i in range(len(alphabet))}\n",
    "        # Make bad character rule table\n",
    "        self.bad_char = dense_bad_char_tab(p, self.amap)\n",
    "        # Create good suffix rule table\n",
    "        _, self.big_l, self.small_l_prime = good_suffix_table(p)\n",
    "\n",
    "    def bad_character_rule(self, i, c):\n",
    "        \"\"\" Return # skips given by bad character rule at offset i \"\"\"\n",
    "        assert c in self.amap\n",
    "        assert i < len(self.bad_char)\n",
    "        ci = self.amap[c]\n",
    "        return i - (self.bad_char[i][ci]-1)\n",
    "\n",
    "    def good_suffix_rule(self, i):\n",
    "        \"\"\" Given a mismatch at offset i, return amount to shift\n",
    "            as determined by (weak) good suffix rule. \"\"\"\n",
    "        length = len(self.big_l)\n",
    "        assert i < length\n",
    "        if i == length - 1:\n",
    "            return 0\n",
    "        i += 1  # i points to leftmost matching position of P\n",
    "        if self.big_l[i] > 0:\n",
    "            return length - self.big_l[i]\n",
    "        return length - self.small_l_prime[i]\n",
    "\n",
    "    def match_skip(self):\n",
    "        \"\"\" Return amount to shift in case where P matches T \"\"\"\n",
    "        return len(self.small_l_prime) - self.small_l_prime[1]\n",
    "\n",
    "\n",
    "class TestBoyerMoorePreproc(unittest.TestCase):\n",
    "\n",
    "    def test_z_1(self):\n",
    "        s = 'abb'\n",
    "        #    -00\n",
    "        z = z_array(s)\n",
    "        self.assertEqual([3, 0, 0], z)\n",
    "\n",
    "    def test_z_2(self):\n",
    "        s = 'abababab'\n",
    "        #    00604020\n",
    "        z = z_array(s)\n",
    "        self.assertEqual([8, 0, 6, 0, 4, 0, 2, 0], z)\n",
    "\n",
    "    def test_z_3(self):\n",
    "        s = 'abababab'\n",
    "        #    00604020\n",
    "        z = z_array(s)\n",
    "        self.assertEqual([8, 0, 6, 0, 4, 0, 2, 0], z)\n",
    "\n",
    "    def test_n_1(self):\n",
    "        s = 'abb'\n",
    "        #    01-\n",
    "        n = n_array(s)\n",
    "        self.assertEqual([0, 1, 3], n)\n",
    "\n",
    "    def test_n_2(self):\n",
    "        s = 'abracadabra'\n",
    "        #    1004010100-\n",
    "        n = n_array(s)\n",
    "        self.assertEqual([1, 0, 0, 4, 0, 1, 0, 1, 0, 0, 11], n)\n",
    "\n",
    "    def test_n_3(self):\n",
    "        s = 'abababab'\n",
    "        #    0204060-\n",
    "        n = n_array(s)\n",
    "        self.assertEqual([0, 2, 0, 4, 0, 6, 0, 8], n)\n",
    "\n",
    "    def test_big_l_prime_1(self):\n",
    "        s = 'abb'\n",
    "        #    001\n",
    "        big_l_prime = big_l_prime_array(s, n_array(s))\n",
    "        self.assertEqual([0, 0, 2], big_l_prime)\n",
    "\n",
    "    def test_big_l_prime_2(self):\n",
    "        s = 'abracadabra'\n",
    "        #    01234567890\n",
    "        # L' 00000003007\n",
    "        # L  00000003337\n",
    "        big_l_prime = big_l_prime_array(s, n_array(s))\n",
    "        self.assertEqual([0, 0, 0, 0, 0, 0, 0, 4, 0, 0, 8], big_l_prime)\n",
    "\n",
    "    def test_small_l_prime_1(self):\n",
    "        s = 'abracadabra'\n",
    "        # N  1004010100-\n",
    "        # l'           1\n",
    "        # l'        4\n",
    "        # l' 44444444111\n",
    "        small_l_prime = small_l_prime_array(n_array(s))\n",
    "        self.assertEqual([11, 4, 4, 4, 4, 4, 4, 4, 1, 1, 1], small_l_prime)\n",
    "\n",
    "    def test_good_suffix_match_mismatch_1(self):\n",
    "        p = 'GGTAGGT'\n",
    "        big_l_prime, big_l, small_l_prime = good_suffix_table(p)\n",
    "        self.assertEqual([0, 0, 0, 0, 3, 0, 0], big_l_prime)\n",
    "        self.assertEqual([0, 0, 0, 0, 3, 3, 3], big_l)\n",
    "        self.assertEqual([7, 3, 3, 3, 3, 0, 0], small_l_prime)\n",
    "        self.assertEqual(0, good_suffix_mismatch(6, big_l_prime, small_l_prime))\n",
    "        self.assertEqual(0, good_suffix_mismatch(6, big_l, small_l_prime))\n",
    "        #  t:      xT\n",
    "        #  p: GGTAGGT\n",
    "        # L': -000300\n",
    "        #  L: -000333\n",
    "        self.assertEqual(7, good_suffix_mismatch(5, big_l_prime, small_l_prime))\n",
    "        self.assertEqual(4, good_suffix_mismatch(5, big_l, small_l_prime))\n",
    "        #  t:     xGT\n",
    "        #  p: GGTAGGT\n",
    "        # L': -000300\n",
    "        #  L: -000333\n",
    "        self.assertEqual(7, good_suffix_mismatch(4, big_l_prime, small_l_prime))\n",
    "        self.assertEqual(4, good_suffix_mismatch(4, big_l, small_l_prime))\n",
    "        #  t:    xGGT\n",
    "        #  p: GGTAGGT\n",
    "        # L': -000300\n",
    "        #  L: -000333\n",
    "        self.assertEqual(4, good_suffix_mismatch(3, big_l_prime, small_l_prime))\n",
    "        self.assertEqual(4, good_suffix_mismatch(3, big_l, small_l_prime))\n",
    "        #  t:   xAGGT\n",
    "        #  p: GGTAGGT\n",
    "        # L': -000300\n",
    "        #  L: -000333\n",
    "        self.assertEqual(4, good_suffix_mismatch(2, big_l_prime, small_l_prime))\n",
    "        self.assertEqual(4, good_suffix_mismatch(2, big_l, small_l_prime))\n",
    "        #  t:  xTAGGT\n",
    "        #  p: GGTAGGT\n",
    "        # L': -000300\n",
    "        #  L: -000333\n",
    "        self.assertEqual(4, good_suffix_mismatch(1, big_l_prime, small_l_prime))\n",
    "        self.assertEqual(4, good_suffix_mismatch(1, big_l, small_l_prime))\n",
    "        #  t: xGTAGGT\n",
    "        #  p: GGTAGGT\n",
    "        # L': -000300\n",
    "        #  L: -000333\n",
    "        self.assertEqual(4, good_suffix_mismatch(0, big_l_prime, small_l_prime))\n",
    "        self.assertEqual(4, good_suffix_mismatch(0, big_l, small_l_prime))\n",
    "\n",
    "    def test_good_suffix_table_1(self):\n",
    "        s = 'abb'\n",
    "        #    001\n",
    "        big_l_prime, big_l, small_l_prime = good_suffix_table(s)\n",
    "        self.assertEqual([0, 0, 2], big_l_prime)\n",
    "        self.assertEqual([0, 0, 2], big_l)\n",
    "        self.assertEqual([3, 0, 0], small_l_prime)\n",
    "\n",
    "    def test_good_suffix_table_2(self):\n",
    "        s = 'abracadabra'\n",
    "        #    01234567890\n",
    "        # L' 00000003007\n",
    "        # L  00000003337\n",
    "        # l' -4444444111\n",
    "        big_l_prime, big_l, small_l_prime = good_suffix_table(s)\n",
    "        self.assertEqual([0, 0, 0, 0, 0, 0, 0, 4, 0, 0, 8], big_l_prime)\n",
    "        self.assertEqual([0, 0, 0, 0, 0, 0, 0, 4, 4, 4, 8], big_l)\n",
    "        self.assertEqual([11, 4, 4, 4, 4, 4, 4, 4, 1, 1, 1], small_l_prime)\n",
    "        "
   ]
  },
  {
   "cell_type": "code",
   "execution_count": 2,
   "id": "883ef728",
   "metadata": {},
   "outputs": [],
   "source": [
    "#Boyer_moore that returns alignments and comparisons in addition to occurences\n",
    "def boyer_moore(p, p_bm, t):\n",
    "    \"\"\" Do Boyer-Moore matching. p=pattern, t=text,\n",
    "        p_bm=BoyerMoore object for p \"\"\"\n",
    "    i = 0\n",
    "    occurrences = []\n",
    "    alignments = 0\n",
    "    comparisons = 0\n",
    "    while i < len(t) - len(p) + 1:\n",
    "        alignments += 1\n",
    "        shift = 1\n",
    "        mismatched = False\n",
    "        for j in range(len(p)-1, -1, -1):\n",
    "            comparisons += 1\n",
    "            if p[j] != t[i+j]:\n",
    "                skip_bc = p_bm.bad_character_rule(j, t[i+j])\n",
    "                skip_gs = p_bm.good_suffix_rule(j)\n",
    "                shift = max(shift, skip_bc, skip_gs)\n",
    "                mismatched = True\n",
    "                break\n",
    "        if not mismatched:\n",
    "            occurrences.append(i)\n",
    "            skip_gs = p_bm.match_skip()\n",
    "            shift = max(shift, skip_gs)\n",
    "        i += shift\n",
    "    return occurrences, alignments, comparisons"
   ]
  },
  {
   "cell_type": "code",
   "execution_count": 3,
   "id": "829ea3b6",
   "metadata": {},
   "outputs": [],
   "source": [
    "#Naive exact matching that returns alignments and comparisons in addition to occurences\n",
    "def naive(p, t):\n",
    "    occurrences = []\n",
    "    alignments = 0\n",
    "    comparisons = 0\n",
    "    for i in range(len(t) - len(p) + 1):  # loop over alignments\n",
    "        alignments += 1\n",
    "        match = True\n",
    "        for j in range(len(p)):  # loop over characters\n",
    "            comparisons += 1\n",
    "            if t[i+j] != p[j]:  # compare characters\n",
    "                match = False\n",
    "                break\n",
    "        if match:\n",
    "            occurrences.append(i)  # all chars matched; record\n",
    "    return occurrences, alignments, comparisons"
   ]
  },
  {
   "cell_type": "code",
   "execution_count": 5,
   "id": "9c45829f",
   "metadata": {},
   "outputs": [],
   "source": [
    "#Read the genome of human chromosome 1\n",
    "def readGenome(filename):\n",
    "    genome=''\n",
    "    with open(filename,'r') as f:\n",
    "        for line in f:\n",
    "            if not line[0]=='>':\n",
    "                genome+=line.rstrip() #rstrip removes empty spaces\n",
    "    return genome\n",
    "genome=readGenome('chr1.GRCh38.excerpt.fasta')"
   ]
  },
  {
   "cell_type": "markdown",
   "id": "61095afd",
   "metadata": {},
   "source": [
    "Q1:How many alignments does the naive exact matching algorithm try when matching the string \n",
    "GGCGCGGTGGCTCACGCCTGTAATCCCAGCACTTTGGGAGGCCGAGG (derived from human Alu sequences) to the excerpt of human chromosome 1?  \n",
    "(Don't consider reverse complements.) "
   ]
  },
  {
   "cell_type": "code",
   "execution_count": 14,
   "id": "a7da7b9b",
   "metadata": {},
   "outputs": [
    {
     "name": "stdout",
     "output_type": "stream",
     "text": [
      "Alignments are 799954\n"
     ]
    }
   ],
   "source": [
    "string1='GGCGCGGTGGCTCACGCCTGTAATCCCAGCACTTTGGGAGGCCGAGG'\n",
    "print('Alignments are',naive(string1,genome)[1])"
   ]
  },
  {
   "cell_type": "markdown",
   "id": "041e39d1",
   "metadata": {},
   "source": [
    "Q2:How many character comparisons does the naive exact matching algorithm try when matching the string \n",
    "GGCGCGGTGGCTCACGCCTGTAATCCCAGCACTTTGGGAGGCCGAGG (derived from human Alu sequences) to the excerpt of human chromosome 1? \n",
    "(Don't consider reverse complements.)"
   ]
  },
  {
   "cell_type": "code",
   "execution_count": 15,
   "id": "9bfc39e5",
   "metadata": {},
   "outputs": [
    {
     "name": "stdout",
     "output_type": "stream",
     "text": [
      "Character comparisons are 984143\n"
     ]
    }
   ],
   "source": [
    "string='GGCGCGGTGGCTCACGCCTGTAATCCCAGCACTTTGGGAGGCCGAGG'\n",
    "print('Character comparisons are',naive(string1,genome)[2])"
   ]
  },
  {
   "cell_type": "markdown",
   "id": "90a7649c",
   "metadata": {},
   "source": [
    "Q3: How many alignments does Boyer-Moore try when matching the string GGCGCGGTGGCTCACGCCTGTAATCCCAGCACTTTGGGAGGCCGAGG (derived from human Alu sequences) to the excerpt of human chromosome 1?  \n",
    "(Don't consider reverse complements.)"
   ]
  },
  {
   "cell_type": "code",
   "execution_count": 16,
   "id": "5cb95769",
   "metadata": {},
   "outputs": [
    {
     "name": "stdout",
     "output_type": "stream",
     "text": [
      "Alignments are 127974\n"
     ]
    }
   ],
   "source": [
    "p='GGCGCGGTGGCTCACGCCTGTAATCCCAGCACTTTGGGAGGCCGAGG'\n",
    "p_bm=BoyerMoore(p,alphabet='ACGT')\n",
    "print('Alignments are',boyer_moore(p,p_bm,genome)[1])"
   ]
  },
  {
   "cell_type": "code",
   "execution_count": 17,
   "id": "b2c98829",
   "metadata": {},
   "outputs": [],
   "source": [
    "#Index object\n",
    "class Index(object):\n",
    "    def __init__(self, t, k):\n",
    "        ''' Create index from all substrings of size 'length' '''\n",
    "        self.k = k  # k-mer length (k)\n",
    "        self.index = []\n",
    "        for i in range(len(t) - k + 1):  # for each k-mer\n",
    "            self.index.append((t[i:i+k], i))  # add (k-mer, offset) pair\n",
    "        self.index.sort()  # alphabetize by k-mer\n",
    "    \n",
    "    def query(self, p):\n",
    "        ''' Return index hits for first k-mer of P '''\n",
    "        kmer = p[:self.k]  # query with first k-mer\n",
    "        i = bisect.bisect_left(self.index, (kmer, -1))  # binary search\n",
    "        hits = []\n",
    "        while i < len(self.index):  # collect matching index entries\n",
    "            if self.index[i][0] != kmer:\n",
    "                break\n",
    "            hits.append(self.index[i][1])\n",
    "            i += 1\n",
    "        return hits"
   ]
  },
  {
   "cell_type": "markdown",
   "id": "fbc2f917",
   "metadata": {},
   "source": [
    "Write a function that, given a length-24 pattern P and given an Index object built on 8-mers, finds all approximate occurrences of P within T with up to 2 mismatches. Insertions and deletions are not allowed. Don't consider any reverse complements."
   ]
  },
  {
   "cell_type": "code",
   "execution_count": 24,
   "id": "80cfc92c",
   "metadata": {},
   "outputs": [],
   "source": [
    "#\n",
    "# Practical: partial matching algroithm implementation using an exact matching algorithm (Boyer-Moore)\n",
    "# combined with the pigeon hole principle to allow up to k mismatches of pattern in text\n",
    "#\n",
    "def approximate_match_boyer_moore(p, t, k):\n",
    "    segment_length = round(len(p) // (k+1))\n",
    "    all_matches = set()\n",
    "    for i in range(k+1):\n",
    "        start = i * segment_length\n",
    "        end = min((i+1) * segment_length, len(p))\n",
    "        p_bm = BoyerMoore(p[start:end], alphabet='ACGT')\n",
    "        matches, _, _ = boyer_moore(p[start:end], p_bm, t)\n",
    "        for m in matches:\n",
    "            #\n",
    "            # Question: why is text offset equal to the matched position minus start of current segment?\n",
    "            #\n",
    "            # Answer: this is beacuse 'start' is the k-th segment offset within p, so we are basically aligning pattern within text based on the k-th exact matching segment\n",
    "            # so text offset from T's perspective is where P would begin to align within T.\n",
    "            #\n",
    "            # Example:\n",
    "            #\n",
    "            #       01234567\n",
    "            #   T = ABCDEFG\n",
    "            #   P =   CDEF\n",
    "            #   K = 1\n",
    "            #\n",
    "            # since K = 1, then K + 1 = 2, thus P is split into 2 partitions CD and EF\n",
    "            # the first partition:  CD matches T at m = 2, the start of partition CD is 0, so P aligns with T at m = 2 - 0 = 2\n",
    "            # the second partition: EF matches T at m = 4, the start of partition EF is 2, so P aligns with T at m = 4 - 2 = 2\n",
    "            # thus for each match in a k-th partition, P aligns at same offset m within T ( ie. offset 2 for this example )\n",
    "            #\n",
    "            text_offset = m - start\n",
    "            if text_offset < 0 or (text_offset + len(p)) > len(t):\n",
    "                continue\n",
    "            mismatches = 0\n",
    "            for j in range(0, start):\n",
    "                if not p[j] == t[text_offset + j]:\n",
    "                    mismatches += 1\n",
    "                    if mismatches > k:\n",
    "                        break\n",
    "            for j in range(end, len(p)):\n",
    "                if not p[j] == t[text_offset + j]:\n",
    "                    mismatches += 1\n",
    "                    if mismatches > k:\n",
    "                        break\n",
    "            if mismatches <= k:\n",
    "                all_matches.add(text_offset)\n",
    "    return list(all_matches)"
   ]
  },
  {
   "cell_type": "code",
   "execution_count": 25,
   "id": "7b36c3d0",
   "metadata": {},
   "outputs": [
    {
     "name": "stdout",
     "output_type": "stream",
     "text": [
      "[0, 5]\n"
     ]
    }
   ],
   "source": [
    "p = 'AACTTG'\n",
    "t = 'CACTTAATTTG'\n",
    "print(approximate_match_boyer_moore(p, t, 2))"
   ]
  },
  {
   "cell_type": "code",
   "execution_count": 26,
   "id": "d6d823a5",
   "metadata": {},
   "outputs": [],
   "source": [
    "#\n",
    "# Practical: Implementating a K-mer Index\n",
    "#\n",
    "\"\"\"kmer_index.py: A k-mer index for indexing a text.\"\"\"\n",
    "\n",
    "__author__ = \"Ben Langmead\"\n",
    "\n",
    "import bisect\n",
    "\n",
    "class Index(object):\n",
    "    \"\"\" Holds a substring index for a text T \"\"\"\n",
    "    def __init__(self, t, k):\n",
    "        \"\"\" Create index from all substrings of t of length k \"\"\"\n",
    "        self.k = k # k-mer length (k)\n",
    "        self.index = []\n",
    "        for i in range(len(t)-k+1): # for each k-mer\n",
    "            self.index.append((t[i:i+k], i)) # add (k-mer, offset) pair\n",
    "        self.index.sort()\n",
    "\n",
    "    def query(self, p):\n",
    "        \"\"\" Return index hits for first k-mer of p \"\"\"\n",
    "        kmer = p[:self.k] # query with first k-mer\n",
    "        i = bisect.bisect_left(self.index, (kmer, -1)) # binary search\n",
    "        hits = []\n",
    "        while i < len(self.index): # # collect matching index entries\n",
    "            if self.index[i][0] != kmer:\n",
    "                break # end of multimap equal range\n",
    "            hits.append(self.index[i][1])\n",
    "            i += 1\n",
    "        return hits"
   ]
  },
  {
   "cell_type": "code",
   "execution_count": 27,
   "id": "0364f442",
   "metadata": {},
   "outputs": [],
   "source": [
    "def queryIndex(p, t, index):\n",
    "    k = index.k\n",
    "    offsets = []\n",
    "    for i in index.query(p):\n",
    "        if (p[k:] == t[i+k:i+len(p)]):\n",
    "            offsets.append(i)\n",
    "    return offsets"
   ]
  },
  {
   "cell_type": "code",
   "execution_count": 28,
   "id": "a4cca3bb",
   "metadata": {},
   "outputs": [],
   "source": [
    "#\n",
    "# partial matching algroithm implementation using an exact matching algorithm (Indexing)\n",
    "# combined with the pigeon hole principle to allow up to k mismatches of pattern in text\n",
    "#\n",
    "def approximate_match_index(p, t, k):\n",
    "    segment_length = round(len(p) // (k+1))\n",
    "    hits = 0\n",
    "    all_matches = set()\n",
    "    index = Index(t, 8) # built on 8-mers\n",
    "    for i in range(k+1):\n",
    "        start = i * segment_length\n",
    "        end = min((i+1) * segment_length, len(p))\n",
    "        matches = index.query(p[start:end])\n",
    "        hits += len(matches)\n",
    "        for m in matches:\n",
    "            text_offset = m - start\n",
    "            if text_offset < 0 or (text_offset + len(p)) > len(t):\n",
    "                continue\n",
    "            mismatches = 0\n",
    "            for j in range(0, start):\n",
    "                if not p[j] == t[text_offset + j]:\n",
    "                    mismatches += 1\n",
    "                    if mismatches > k:\n",
    "                        break\n",
    "            for j in range(end, len(p)):\n",
    "                if not p[j] == t[text_offset + j]:\n",
    "                    mismatches += 1\n",
    "                    if mismatches > k:\n",
    "                        break\n",
    "            if mismatches <= k:\n",
    "                all_matches.add(text_offset)\n",
    "    return list(all_matches), hits"
   ]
  },
  {
   "cell_type": "markdown",
   "id": "5d92c564",
   "metadata": {},
   "source": [
    "Q4: How many times does the string \n",
    "GGCGCGGTGGCTCACGCCTGTAAT, which is derived from a human Alu sequence, occur with up to 2 substitutions in the excerpt of human chromosome 1?  (Don't consider reverse complements here.)\n",
    "\n",
    "Hint 1: Multiple index hits might direct you to the same match multiple times, but be careful not to count a match more than once.\n",
    "\n",
    "Hint 2: You can check your work by comparing the output of your new function to that of the \n",
    "naive_2mm\n",
    "naive_2mm function implemented in the previous module.\n"
   ]
  },
  {
   "cell_type": "code",
   "execution_count": 30,
   "id": "620d48a8",
   "metadata": {},
   "outputs": [
    {
     "data": {
      "text/plain": [
       "19"
      ]
     },
     "execution_count": 30,
     "metadata": {},
     "output_type": "execute_result"
    }
   ],
   "source": [
    "p='GGCGCGGTGGCTCACGCCTGTAAT'\n",
    "len(approximate_match_index(p,genome,2)[0])"
   ]
  },
  {
   "cell_type": "markdown",
   "id": "a76ddf80",
   "metadata": {},
   "source": [
    "Q5: Using the instructions given in Question 4, how many total index hits are there when searching for occurrences of GGCGCGGTGGCTCACGCCTGTAAT with up to 2 substitutions in the excerpt of human chromosome 1?\n",
    "(Don't consider reverse complements.)\n",
    "\n",
    "Hint: You should be able to use the boyer_moore\n",
    "boyer_moore function (or the slower \n",
    "naive\n",
    "naive function) to double-check your answer."
   ]
  },
  {
   "cell_type": "code",
   "execution_count": 32,
   "id": "3f5c9653",
   "metadata": {},
   "outputs": [
    {
     "data": {
      "text/plain": [
       "90"
      ]
     },
     "execution_count": 32,
     "metadata": {},
     "output_type": "execute_result"
    }
   ],
   "source": [
    "p='GGCGCGGTGGCTCACGCCTGTAAT'\n",
    "approximate_match_index(p,genome,2)[1]"
   ]
  },
  {
   "cell_type": "code",
   "execution_count": 33,
   "id": "aba1c277",
   "metadata": {},
   "outputs": [],
   "source": [
    "#The following class SubseqIndex is a more general implementation of Index that additionally handles subsequences. \n",
    "#It only considers subsequences that take every Nth character:\n",
    "import bisect\n",
    "   \n",
    "class SubseqIndex(object):\n",
    "    \"\"\" Holds a subsequence index for a text T \"\"\"\n",
    "    \n",
    "    def __init__(self, t, k, ival):\n",
    "        \"\"\" Create index from all subsequences consisting of k characters\n",
    "            spaced ival positions apart.  E.g., SubseqIndex(\"ATAT\", 2, 2)\n",
    "            extracts (\"AA\", 0) and (\"TT\", 1). \"\"\"\n",
    "        self.k = k  # num characters per subsequence extracted\n",
    "        self.ival = ival  # space between them; 1=adjacent, 2=every other, etc\n",
    "        self.index = []\n",
    "        self.span = 1 + ival * (k - 1)\n",
    "        for i in range(len(t) - self.span + 1):  # for each subseq\n",
    "            self.index.append((t[i:i+self.span:ival], i))  # add (subseq, offset)\n",
    "        self.index.sort()  # alphabetize by subseq\n",
    "    \n",
    "    def query(self, p):\n",
    "        \"\"\" Return index hits for first subseq of p \"\"\"\n",
    "        subseq = p[:self.span:self.ival]  # query with first subseq\n",
    "        i = bisect.bisect_left(self.index, (subseq, -1))  # binary search\n",
    "        hits = []\n",
    "        while i < len(self.index):  # collect matching index entries\n",
    "            if self.index[i][0] != subseq:\n",
    "                break\n",
    "            hits.append(self.index[i][1])\n",
    "            i += 1\n",
    "        return hits"
   ]
  },
  {
   "cell_type": "code",
   "execution_count": 34,
   "id": "0763a1fe",
   "metadata": {},
   "outputs": [
    {
     "name": "stdout",
     "output_type": "stream",
     "text": [
      "[('AAA', 0), ('TTT', 1)]\n"
     ]
    }
   ],
   "source": [
    "ind = SubseqIndex('ATATAT', 3, 2)\n",
    "print(ind.index)"
   ]
  },
  {
   "cell_type": "code",
   "execution_count": 35,
   "id": "1c8e1c14",
   "metadata": {},
   "outputs": [
    {
     "name": "stdout",
     "output_type": "stream",
     "text": [
      "[]\n"
     ]
    }
   ],
   "source": [
    "#if we query this index, we see [] because the subsequence TAA is not in the index.\n",
    "p = 'TTATAT'\n",
    "print(ind.query(p[0:]))"
   ]
  },
  {
   "cell_type": "code",
   "execution_count": 36,
   "id": "9e66f171",
   "metadata": {},
   "outputs": [
    {
     "name": "stdout",
     "output_type": "stream",
     "text": [
      "[1]\n"
     ]
    }
   ],
   "source": [
    "#But if we query with the second subsequence we see [1] because the second subsequence TTT is in the index.\n",
    "print(ind.query(p[1:]))"
   ]
  },
  {
   "cell_type": "markdown",
   "id": "1cb1a007",
   "metadata": {},
   "source": [
    "Q6: Write a function that, given a length-24 pattern P and given a \n",
    "SubseqIndex object built with k = 8 and ival = 3, finds all approximate occurrences of P within T with up to 2 mismatches.\n",
    "\n",
    "When using this function, how many total index hits are there when searching for \n",
    "GGCGCGGTGGCTCACGCCTGTAAT\n",
    "GGCGCGGTGGCTCACGCCTGTAAT with up to 2 substitutions in the excerpt of human chromosome 1?  (Again, don't consider reverse complements.) "
   ]
  },
  {
   "cell_type": "code",
   "execution_count": 38,
   "id": "2303f422",
   "metadata": {},
   "outputs": [],
   "source": [
    "#\n",
    "# partial matching algroithm implementation using an exact matching algorithm (Subsequence Indexing)\n",
    "# combined with the pigeon hole principle to allow up to k mismatches of pattern in text\n",
    "#\n",
    "# note: in this solution, the partitions overlap ( ie. every 3rd subsequence interval, 123123123 )\n",
    "# compared to the previous solutions where each partition has a unique, non-overlapping start/end\n",
    "# ( ie. every 3rd chunk, 111222333 )\n",
    "#\n",
    "def approximate_match_subseq_index(p, t, k):\n",
    "    segment_length = round(len(p) // (k+1))\n",
    "    hits = 0\n",
    "    all_matches = set()\n",
    "    index = SubseqIndex(t, 8, 3) # built on 8-mers and subsequence intervals of 3\n",
    "    for start in range(k+1):\n",
    "        matches = index.query(p[start:])\n",
    "        hits += len(matches)\n",
    "        for m in matches:\n",
    "            text_offset = m - start\n",
    "            if text_offset < 0 or (text_offset + len(p)) > len(t):\n",
    "                continue\n",
    "            mismatches = 0\n",
    "            for j in range(0, len(p)):\n",
    "                if not p[j] == t[text_offset + j]:\n",
    "                    mismatches += 1\n",
    "                    if mismatches > k:\n",
    "                        break\n",
    "            if mismatches <= k:\n",
    "                all_matches.add(text_offset)\n",
    "    return list(all_matches), hits"
   ]
  },
  {
   "cell_type": "code",
   "execution_count": 40,
   "id": "51a94234",
   "metadata": {},
   "outputs": [
    {
     "name": "stdout",
     "output_type": "stream",
     "text": [
      "79\n"
     ]
    }
   ],
   "source": [
    "t = genome\n",
    "p = 'GGCGCGGTGGCTCACGCCTGTAAT'\n",
    "k = 2\n",
    "_, hits = approximate_match_subseq_index(p, t, k)\n",
    "print(hits)"
   ]
  },
  {
   "cell_type": "code",
   "execution_count": null,
   "id": "15bb0d1f",
   "metadata": {},
   "outputs": [],
   "source": []
  }
 ],
 "metadata": {
  "kernelspec": {
   "display_name": "Python 3 (ipykernel)",
   "language": "python",
   "name": "python3"
  },
  "language_info": {
   "codemirror_mode": {
    "name": "ipython",
    "version": 3
   },
   "file_extension": ".py",
   "mimetype": "text/x-python",
   "name": "python",
   "nbconvert_exporter": "python",
   "pygments_lexer": "ipython3",
   "version": "3.9.7"
  }
 },
 "nbformat": 4,
 "nbformat_minor": 5
}
