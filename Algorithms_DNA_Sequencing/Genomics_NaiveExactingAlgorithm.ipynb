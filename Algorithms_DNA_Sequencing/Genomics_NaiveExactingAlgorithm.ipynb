{
 "cells": [
  {
   "cell_type": "code",
   "execution_count": 1,
   "id": "c39388f0",
   "metadata": {},
   "outputs": [],
   "source": [
    "def readGenome(filename):\n",
    "    genome=''\n",
    "    with open(filename,'r') as f:\n",
    "        for line in f:\n",
    "            if not line[0]=='>':\n",
    "                genome+=line.rstrip() #rstrip removes empty spaces\n",
    "    return genome"
   ]
  },
  {
   "cell_type": "code",
   "execution_count": 2,
   "id": "4178a037",
   "metadata": {},
   "outputs": [],
   "source": [
    "genome=readGenome('lambda_virus.fa')"
   ]
  },
  {
   "cell_type": "code",
   "execution_count": 21,
   "id": "4651626a",
   "metadata": {},
   "outputs": [],
   "source": [
    "def naive(p,t):\n",
    "    occurences=[]\n",
    "    for i in range(len(t)-len(p)+1):\n",
    "        match=True\n",
    "        for j in range(len(p)):\n",
    "            if t[i+j]!=p[j]:\n",
    "                match=False\n",
    "                break\n",
    "        if match:\n",
    "            occurences.append(i)\n",
    "    return occurences"
   ]
  },
  {
   "cell_type": "code",
   "execution_count": 5,
   "id": "0aafaf28",
   "metadata": {},
   "outputs": [
    {
     "data": {
      "text/plain": [
       "[0, 6]"
      ]
     },
     "execution_count": 5,
     "metadata": {},
     "output_type": "execute_result"
    }
   ],
   "source": [
    "text='AGCTTAAGC'\n",
    "pattern='AG'\n",
    "naive(pattern,text)"
   ]
  },
  {
   "cell_type": "code",
   "execution_count": 15,
   "id": "b424e740",
   "metadata": {},
   "outputs": [],
   "source": [
    "#Function to generate random reads from a genome\n",
    "import random\n",
    "def generateReads(genome,readNum,readLen):\n",
    "    reads=[]\n",
    "    for i in range(readNum):\n",
    "        start=random.randint(0,len(genome)-readLen)-1\n",
    "        reads.append(genome[start:start+readLen])\n",
    "    return reads"
   ]
  },
  {
   "cell_type": "code",
   "execution_count": 32,
   "id": "7a7d0f8f",
   "metadata": {},
   "outputs": [
    {
     "name": "stdout",
     "output_type": "stream",
     "text": [
      "10\n"
     ]
    }
   ],
   "source": [
    "reads=generateReads(genome,10,10)\n",
    "numMatched=0\n",
    "for r in reads:\n",
    "    match=naive(r,genome)\n",
    "    if len(match) > 0:\n",
    "        numMatched += 1\n",
    "print(numMatched)"
   ]
  },
  {
   "cell_type": "code",
   "execution_count": 30,
   "id": "0ecbb358",
   "metadata": {},
   "outputs": [
    {
     "data": {
      "text/plain": [
       "['TGTTTTTGAT',\n",
       " 'TGCAAAGATG',\n",
       " 'TGCCGGGAAT',\n",
       " 'GTGGCCATCG',\n",
       " 'CGCGAAGGCA',\n",
       " 'GCTTGCTGTA',\n",
       " 'ACCGGGCGGC',\n",
       " 'CGTTTATTCA',\n",
       " 'CGTGTTGACT',\n",
       " 'GGTCTTAAAC']"
      ]
     },
     "execution_count": 30,
     "metadata": {},
     "output_type": "execute_result"
    }
   ],
   "source": [
    "reads"
   ]
  },
  {
   "cell_type": "code",
   "execution_count": null,
   "id": "6b500ab9",
   "metadata": {},
   "outputs": [],
   "source": []
  }
 ],
 "metadata": {
  "kernelspec": {
   "display_name": "Python 3 (ipykernel)",
   "language": "python",
   "name": "python3"
  },
  "language_info": {
   "codemirror_mode": {
    "name": "ipython",
    "version": 3
   },
   "file_extension": ".py",
   "mimetype": "text/x-python",
   "name": "python",
   "nbconvert_exporter": "python",
   "pygments_lexer": "ipython3",
   "version": "3.9.7"
  }
 },
 "nbformat": 4,
 "nbformat_minor": 5
}
