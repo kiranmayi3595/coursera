{
 "cells": [
  {
   "cell_type": "code",
   "execution_count": 10,
   "id": "dd663d65",
   "metadata": {},
   "outputs": [
    {
     "name": "stdout",
     "output_type": "stream",
     "text": [
      "['a', 'b', 'c', 'd', 'e']\n"
     ]
    }
   ],
   "source": [
    "stack1=['a','b','c','d']\n",
    "stack1.append('e')\n",
    "print(stack1)"
   ]
  },
  {
   "cell_type": "code",
   "execution_count": 11,
   "id": "5c3bafe9",
   "metadata": {},
   "outputs": [
    {
     "name": "stdout",
     "output_type": "stream",
     "text": [
      "['a', 'b', 'c', 'd', 'e']\n"
     ]
    }
   ],
   "source": [
    "stack2=['a','b','c','d']\n",
    "stack2.extend('e')\n",
    "print(stack2)"
   ]
  },
  {
   "cell_type": "code",
   "execution_count": 12,
   "id": "2adbd58d",
   "metadata": {},
   "outputs": [
    {
     "name": "stdout",
     "output_type": "stream",
     "text": [
      "e\n"
     ]
    }
   ],
   "source": [
    "#last in first out\n",
    "elem1=stack1.pop()\n",
    "print(elem1)"
   ]
  },
  {
   "cell_type": "code",
   "execution_count": 14,
   "id": "07027003",
   "metadata": {},
   "outputs": [
    {
     "data": {
      "text/plain": [
       "(1, 2, 3)"
      ]
     },
     "execution_count": 14,
     "metadata": {},
     "output_type": "execute_result"
    }
   ],
   "source": [
    "t=1,2,3\n",
    "t"
   ]
  },
  {
   "cell_type": "code",
   "execution_count": 21,
   "id": "45fab34a",
   "metadata": {},
   "outputs": [],
   "source": [
    "def reverse(dna):\n",
    "    \"Returns the reverse of a DNA sequence\"\n",
    "    dna=dna[::-1]\n",
    "    return dna\n",
    "def complement(dna):\n",
    "    \"Returns the complement of a DNA sequence\"\n",
    "    base_complement={'A':'T','a':'t','G':'C','g':'c','T':'A','t':'a','C':'G','c':'g'}\n",
    "    dna=list(dna)\n",
    "    dna=[base_complement[base] for base in dna]\n",
    "    dna=''.join(dna)\n",
    "    return dna\n",
    "def revComplement(dna):\n",
    "    \"Returns the reverse complement of a DNA sequence\"\n",
    "    dna=reverse(dna)\n",
    "    dna=complement(dna)\n",
    "    return dna"
   ]
  },
  {
   "cell_type": "code",
   "execution_count": 22,
   "id": "af68890d",
   "metadata": {},
   "outputs": [
    {
     "data": {
      "text/plain": [
       "'GTACGGGCAT'"
      ]
     },
     "execution_count": 22,
     "metadata": {},
     "output_type": "execute_result"
    }
   ],
   "source": [
    "dna='ATGCCCGTAC'\n",
    "revComplement(dna)"
   ]
  },
  {
   "cell_type": "code",
   "execution_count": 1,
   "id": "1b296177",
   "metadata": {},
   "outputs": [
    {
     "name": "stdout",
     "output_type": "stream",
     "text": [
      "1.79\n"
     ]
    }
   ],
   "source": [
    "#Check if biopython is installed\n",
    "import Bio\n",
    "print(Bio.__version__)"
   ]
  },
  {
   "cell_type": "code",
   "execution_count": 3,
   "id": "ad025c42",
   "metadata": {},
   "outputs": [],
   "source": [
    "#To run BLAST on the internet. We first import the NCBIWW module from Biopython. We import a set of methods from NCBI ( the web based methods) (WWW) We do a BLAST search using the QBLAST server\n",
    "# on NCBI. qblast() returns an XML file\n",
    "#NCBIWWW is a large collection of NCBI programs that we can call over internet\n",
    "\n",
    "from Bio.Blast import NCBIWWW\n",
    "fasta_string=open(\"myseq.fa\").read()\n",
    "result_string=NCBIWWW.qblast(\"blastn\",\"nt\",fasta_string)\n"
   ]
  },
  {
   "cell_type": "code",
   "execution_count": 4,
   "id": "40980577",
   "metadata": {},
   "outputs": [],
   "source": [
    "#NCBIXML helps format xml records\n",
    "from Bio.Blast import NCBIXML\n",
    "blast_record=NCBIXML.read(result_string)\n"
   ]
  },
  {
   "cell_type": "code",
   "execution_count": 6,
   "id": "41e2f783",
   "metadata": {},
   "outputs": [
    {
     "name": "stdout",
     "output_type": "stream",
     "text": [
      "****Alignment****\n",
      "sequence: gi|2695886235|gb|OR084932.1| Zaire ebolavirus isolate Ebolavirus/H.sapiens-wt/COD/2020/Makanza-rdceqt009903, partial genome\n",
      "length: 18532\n",
      "e value: 5.0901e-28\n",
      "CATGCTACGGTGCTAAAAGCATTACGCCCTATAGTGATTTTCGAGACATACTGTGTTTTTAAATATAGTATTGCC\n",
      "|||||||||||||||||||||||||||||||||||||||||||||||||||||||||||||||||||||||||||\n",
      "CATGCTACGGTGCTAAAAGCATTACGCCCTATAGTGATTTTCGAGACATACTGTGTTTTTAAATATAGTATTGCC\n",
      "****Alignment****\n",
      "sequence: gi|2695886225|gb|OR084931.1| Zaire ebolavirus isolate Ebolavirus/H.sapiens-wt/COD/2020/Mbandaka-RDCEQT002143, partial genome\n",
      "length: 18532\n",
      "e value: 5.0901e-28\n",
      "CATGCTACGGTGCTAAAAGCATTACGCCCTATAGTGATTTTCGAGACATACTGTGTTTTTAAATATAGTATTGCC\n",
      "|||||||||||||||||||||||||||||||||||||||||||||||||||||||||||||||||||||||||||\n",
      "CATGCTACGGTGCTAAAAGCATTACGCCCTATAGTGATTTTCGAGACATACTGTGTTTTTAAATATAGTATTGCC\n",
      "****Alignment****\n",
      "sequence: gi|2695886215|gb|OR084930.1| Zaire ebolavirus isolate Ebolavirus/H.sapiens-wt/COD/2020/Mbandaka-RDCEQT003007, partial genome\n",
      "length: 18922\n",
      "e value: 5.0901e-28\n",
      "CATGCTACGGTGCTAAAAGCATTACGCCCTATAGTGATTTTCGAGACATACTGTGTTTTTAAATATAGTATTGCC\n",
      "|||||||||||||||||||||||||||||||||||||||||||||||||||||||||||||||||||||||||||\n",
      "CATGCTACGGTGCTAAAAGCATTACGCCCTATAGTGATTTTCGAGACATACTGTGTTTTTAAATATAGTATTGCC\n",
      "****Alignment****\n",
      "sequence: gi|2695886205|gb|OR084929.1| Zaire ebolavirus isolate Ebolavirus/H.sapiens-wt/COD/2020/Mbandaka-RDCEQT002148, partial genome\n",
      "length: 18939\n",
      "e value: 5.0901e-28\n",
      "CATGCTACGGTGCTAAAAGCATTACGCCCTATAGTGATTTTCGAGACATACTGTGTTTTTAAATATAGTATTGCC\n",
      "|||||||||||||||||||||||||||||||||||||||||||||||||||||||||||||||||||||||||||\n",
      "CATGCTACGGTGCTAAAAGCATTACGCCCTATAGTGATTTTCGAGACATACTGTGTTTTTAAATATAGTATTGCC\n",
      "****Alignment****\n",
      "sequence: gi|2695886195|gb|OR084928.1| Zaire ebolavirus isolate Ebolavirus/H.sapiens-wt/COD/2020/Mbandaka-RDCEQT000300, partial genome\n",
      "length: 18927\n",
      "e value: 5.0901e-28\n",
      "CATGCTACGGTGCTAAAAGCATTACGCCCTATAGTGATTTTCGAGACATACTGTGTTTTTAAATATAGTATTGCC\n",
      "|||||||||||||||||||||||||||||||||||||||||||||||||||||||||||||||||||||||||||\n",
      "CATGCTACGGTGCTAAAAGCATTACGCCCTATAGTGATTTTCGAGACATACTGTGTTTTTAAATATAGTATTGCC\n",
      "****Alignment****\n",
      "sequence: gi|2695886185|gb|OR084927.1| Zaire ebolavirus isolate Ebolavirus/H.sapiens-wt/COD/2020/Mbandaka-RDCEQT002171, partial genome\n",
      "length: 18832\n",
      "e value: 5.0901e-28\n",
      "CATGCTACGGTGCTAAAAGCATTACGCCCTATAGTGATTTTCGAGACATACTGTGTTTTTAAATATAGTATTGCC\n",
      "|||||||||||||||||||||||||||||||||||||||||||||||||||||||||||||||||||||||||||\n",
      "CATGCTACGGTGCTAAAAGCATTACGCCCTATAGTGATTTTCGAGACATACTGTGTTTTTAAATATAGTATTGCC\n",
      "****Alignment****\n",
      "sequence: gi|2695886145|gb|OR084923.1| Zaire ebolavirus isolate Ebolavirus/H.sapiens-wt/COD/2020/Monieka-RDCEQT003256, partial genome\n",
      "length: 18832\n",
      "e value: 5.0901e-28\n",
      "CATGCTACGGTGCTAAAAGCATTACGCCCTATAGTGATTTTCGAGACATACTGTGTTTTTAAATATAGTATTGCC\n",
      "|||||||||||||||||||||||||||||||||||||||||||||||||||||||||||||||||||||||||||\n",
      "CATGCTACGGTGCTAAAAGCATTACGCCCTATAGTGATTTTCGAGACATACTGTGTTTTTAAATATAGTATTGCC\n",
      "****Alignment****\n",
      "sequence: gi|2695886135|gb|OR084922.1| Zaire ebolavirus isolate Ebolavirus/H.sapiens-wt/COD/2020/Mbandaka-RDCEQT003019, partial genome\n",
      "length: 18531\n",
      "e value: 5.0901e-28\n",
      "CATGCTACGGTGCTAAAAGCATTACGCCCTATAGTGATTTTCGAGACATACTGTGTTTTTAAATATAGTATTGCC\n",
      "|||||||||||||||||||||||||||||||||||||||||||||||||||||||||||||||||||||||||||\n",
      "CATGCTACGGTGCTAAAAGCATTACGCCCTATAGTGATTTTCGAGACATACTGTGTTTTTAAATATAGTATTGCC\n",
      "****Alignment****\n",
      "sequence: gi|2695886125|gb|OR084921.1| Zaire ebolavirus isolate Ebolavirus/H.sapiens-wt/COD/2020/Mbandaka-RDCEQT003018, partial genome\n",
      "length: 18941\n",
      "e value: 5.0901e-28\n",
      "CATGCTACGGTGCTAAAAGCATTACGCCCTATAGTGATTTTCGAGACATACTGTGTTTTTAAATATAGTATTGCC\n",
      "|||||||||||||||||||||||||||||||||||||||||||||||||||||||||||||||||||||||||||\n",
      "CATGCTACGGTGCTAAAAGCATTACGCCCTATAGTGATTTTCGAGACATACTGTGTTTTTAAATATAGTATTGCC\n",
      "****Alignment****\n",
      "sequence: gi|2695886115|gb|OR084920.1| Zaire ebolavirus isolate Ebolavirus/H.sapiens-wt/COD/2020/Mbandaka-RDCEQT003014, partial genome\n",
      "length: 18930\n",
      "e value: 5.0901e-28\n",
      "CATGCTACGGTGCTAAAAGCATTACGCCCTATAGTGATTTTCGAGACATACTGTGTTTTTAAATATAGTATTGCC\n",
      "|||||||||||||||||||||||||||||||||||||||||||||||||||||||||||||||||||||||||||\n",
      "CATGCTACGGTGCTAAAAGCATTACGCCCTATAGTGATTTTCGAGACATACTGTGTTTTTAAATATAGTATTGCC\n",
      "****Alignment****\n",
      "sequence: gi|2695886095|gb|OR084918.1| Zaire ebolavirus isolate Ebolavirus/H.sapiens-wt/COD/2020/Mbandaka-RDCEQT003011, partial genome\n",
      "length: 18531\n",
      "e value: 5.0901e-28\n",
      "CATGCTACGGTGCTAAAAGCATTACGCCCTATAGTGATTTTCGAGACATACTGTGTTTTTAAATATAGTATTGCC\n",
      "|||||||||||||||||||||||||||||||||||||||||||||||||||||||||||||||||||||||||||\n",
      "CATGCTACGGTGCTAAAAGCATTACGCCCTATAGTGATTTTCGAGACATACTGTGTTTTTAAATATAGTATTGCC\n",
      "****Alignment****\n",
      "sequence: gi|2695886085|gb|OR084917.1| Zaire ebolavirus isolate Ebolavirus/H.sapiens-wt/COD/2020/Mbandaka-RDCEQT003008, partial genome\n",
      "length: 18532\n",
      "e value: 5.0901e-28\n",
      "CATGCTACGGTGCTAAAAGCATTACGCCCTATAGTGATTTTCGAGACATACTGTGTTTTTAAATATAGTATTGCC\n",
      "|||||||||||||||||||||||||||||||||||||||||||||||||||||||||||||||||||||||||||\n",
      "CATGCTACGGTGCTAAAAGCATTACGCCCTATAGTGATTTTCGAGACATACTGTGTTTTTAAATATAGTATTGCC\n",
      "****Alignment****\n",
      "sequence: gi|2695886065|gb|OR084915.1| Zaire ebolavirus isolate Ebolavirus/H.sapiens-wt/COD/2020/Mbandaka-RDCEQT003001, partial genome\n",
      "length: 18941\n",
      "e value: 5.0901e-28\n",
      "CATGCTACGGTGCTAAAAGCATTACGCCCTATAGTGATTTTCGAGACATACTGTGTTTTTAAATATAGTATTGCC\n",
      "|||||||||||||||||||||||||||||||||||||||||||||||||||||||||||||||||||||||||||\n",
      "CATGCTACGGTGCTAAAAGCATTACGCCCTATAGTGATTTTCGAGACATACTGTGTTTTTAAATATAGTATTGCC\n",
      "****Alignment****\n",
      "sequence: gi|2695886055|gb|OR084914.1| Zaire ebolavirus isolate Ebolavirus/H.sapiens-wt/COD/2020/Mbandaka-RDCEQT002614, partial genome\n",
      "length: 18832\n",
      "e value: 5.0901e-28\n",
      "CATGCTACGGTGCTAAAAGCATTACGCCCTATAGTGATTTTCGAGACATACTGTGTTTTTAAATATAGTATTGCC\n",
      "|||||||||||||||||||||||||||||||||||||||||||||||||||||||||||||||||||||||||||\n",
      "CATGCTACGGTGCTAAAAGCATTACGCCCTATAGTGATTTTCGAGACATACTGTGTTTTTAAATATAGTATTGCC\n",
      "****Alignment****\n",
      "sequence: gi|2695886045|gb|OR084913.1| Zaire ebolavirus isolate Ebolavirus/H.sapiens-wt/COD/2020/mbandaka-RDCEQT002502, partial genome\n",
      "length: 18832\n",
      "e value: 5.0901e-28\n",
      "CATGCTACGGTGCTAAAAGCATTACGCCCTATAGTGATTTTCGAGACATACTGTGTTTTTAAATATAGTATTGCC\n",
      "|||||||||||||||||||||||||||||||||||||||||||||||||||||||||||||||||||||||||||\n",
      "CATGCTACGGTGCTAAAAGCATTACGCCCTATAGTGATTTTCGAGACATACTGTGTTTTTAAATATAGTATTGCC\n",
      "****Alignment****\n",
      "sequence: gi|2695886035|gb|OR084912.1| Zaire ebolavirus isolate Ebolavirus/H.sapiens-wt/COD/2020/Mbandaka-RDCEQT002501, partial genome\n",
      "length: 18832\n",
      "e value: 5.0901e-28\n",
      "CATGCTACGGTGCTAAAAGCATTACGCCCTATAGTGATTTTCGAGACATACTGTGTTTTTAAATATAGTATTGCC\n",
      "|||||||||||||||||||||||||||||||||||||||||||||||||||||||||||||||||||||||||||\n",
      "CATGCTACGGTGCTAAAAGCATTACGCCCTATAGTGATTTTCGAGACATACTGTGTTTTTAAATATAGTATTGCC\n",
      "****Alignment****\n",
      "sequence: gi|2695886025|gb|OR084911.1| Zaire ebolavirus isolate Ebolavirus/H.sapiens-wt/COD/2020/Mbandaka-RDCEQT002164, partial genome\n",
      "length: 18832\n",
      "e value: 5.0901e-28\n",
      "CATGCTACGGTGCTAAAAGCATTACGCCCTATAGTGATTTTCGAGACATACTGTGTTTTTAAATATAGTATTGCC\n",
      "|||||||||||||||||||||||||||||||||||||||||||||||||||||||||||||||||||||||||||\n",
      "CATGCTACGGTGCTAAAAGCATTACGCCCTATAGTGATTTTCGAGACATACTGTGTTTTTAAATATAGTATTGCC\n",
      "****Alignment****\n",
      "sequence: gi|2695886015|gb|OR084910.1| Zaire ebolavirus isolate Ebolavirus/H.sapiens-wt/COD/2020/Bomongo-RDCEQT002163, partial genome\n",
      "length: 18932\n",
      "e value: 5.0901e-28\n",
      "CATGCTACGGTGCTAAAAGCATTACGCCCTATAGTGATTTTCGAGACATACTGTGTTTTTAAATATAGTATTGCC\n",
      "|||||||||||||||||||||||||||||||||||||||||||||||||||||||||||||||||||||||||||\n",
      "CATGCTACGGTGCTAAAAGCATTACGCCCTATAGTGATTTTCGAGACATACTGTGTTTTTAAATATAGTATTGCC\n",
      "****Alignment****\n",
      "sequence: gi|2695885955|gb|OR084904.1| Zaire ebolavirus isolate Ebolavirus/H.sapiens-wt/COD/2020/Mbandaka-RDCEQT002152, partial genome\n",
      "length: 18832\n",
      "e value: 5.0901e-28\n",
      "CATGCTACGGTGCTAAAAGCATTACGCCCTATAGTGATTTTCGAGACATACTGTGTTTTTAAATATAGTATTGCC\n",
      "|||||||||||||||||||||||||||||||||||||||||||||||||||||||||||||||||||||||||||\n",
      "CATGCTACGGTGCTAAAAGCATTACGCCCTATAGTGATTTTCGAGACATACTGTGTTTTTAAATATAGTATTGCC\n",
      "****Alignment****\n",
      "sequence: gi|2695885945|gb|OR084903.1| Zaire ebolavirus isolate Ebolavirus/H.sapiens-wt/COD/2020/Mbandaka-RDCEQT002151, partial genome\n",
      "length: 18532\n",
      "e value: 5.0901e-28\n",
      "CATGCTACGGTGCTAAAAGCATTACGCCCTATAGTGATTTTCGAGACATACTGTGTTTTTAAATATAGTATTGCC\n",
      "|||||||||||||||||||||||||||||||||||||||||||||||||||||||||||||||||||||||||||\n",
      "CATGCTACGGTGCTAAAAGCATTACGCCCTATAGTGATTTTCGAGACATACTGTGTTTTTAAATATAGTATTGCC\n",
      "****Alignment****\n",
      "sequence: gi|2695885935|gb|OR084902.1| Zaire ebolavirus isolate Ebolavirus/H.sapiens-wt/COD/2020/Mbandaka-RDCEQT002149, partial genome\n",
      "length: 18832\n",
      "e value: 5.0901e-28\n",
      "CATGCTACGGTGCTAAAAGCATTACGCCCTATAGTGATTTTCGAGACATACTGTGTTTTTAAATATAGTATTGCC\n",
      "|||||||||||||||||||||||||||||||||||||||||||||||||||||||||||||||||||||||||||\n",
      "CATGCTACGGTGCTAAAAGCATTACGCCCTATAGTGATTTTCGAGACATACTGTGTTTTTAAATATAGTATTGCC\n",
      "****Alignment****\n",
      "sequence: gi|2695885925|gb|OR084901.1| Zaire ebolavirus isolate Ebolavirus/H.sapiens-wt/COD/2020/Mbandaka-RDCEQT002146, partial genome\n",
      "length: 18832\n",
      "e value: 5.0901e-28\n",
      "CATGCTACGGTGCTAAAAGCATTACGCCCTATAGTGATTTTCGAGACATACTGTGTTTTTAAATATAGTATTGCC\n",
      "|||||||||||||||||||||||||||||||||||||||||||||||||||||||||||||||||||||||||||\n",
      "CATGCTACGGTGCTAAAAGCATTACGCCCTATAGTGATTTTCGAGACATACTGTGTTTTTAAATATAGTATTGCC\n",
      "****Alignment****\n",
      "sequence: gi|2695885915|gb|OR084900.1| Zaire ebolavirus isolate Ebolavirus/H.sapiens-wt/COD/2020/Mbandaka-RDCEQT002145, partial genome\n",
      "length: 18532\n",
      "e value: 5.0901e-28\n",
      "CATGCTACGGTGCTAAAAGCATTACGCCCTATAGTGATTTTCGAGACATACTGTGTTTTTAAATATAGTATTGCC\n",
      "|||||||||||||||||||||||||||||||||||||||||||||||||||||||||||||||||||||||||||\n",
      "CATGCTACGGTGCTAAAAGCATTACGCCCTATAGTGATTTTCGAGACATACTGTGTTTTTAAATATAGTATTGCC\n",
      "****Alignment****\n",
      "sequence: gi|2695885905|gb|OR084899.1| Zaire ebolavirus isolate Ebolavirus/H.sapiens-wt/COD/2020/Mbandaka-RDCEQT002144, partial genome\n",
      "length: 18832\n",
      "e value: 5.0901e-28\n",
      "CATGCTACGGTGCTAAAAGCATTACGCCCTATAGTGATTTTCGAGACATACTGTGTTTTTAAATATAGTATTGCC\n",
      "|||||||||||||||||||||||||||||||||||||||||||||||||||||||||||||||||||||||||||\n",
      "CATGCTACGGTGCTAAAAGCATTACGCCCTATAGTGATTTTCGAGACATACTGTGTTTTTAAATATAGTATTGCC\n",
      "****Alignment****\n",
      "sequence: gi|2695885895|gb|OR084898.1| Zaire ebolavirus isolate Ebolavirus/H.sapiens-wt/COD/2020/Mbandaka-RDCEQT002141, partial genome\n",
      "length: 18939\n",
      "e value: 5.0901e-28\n",
      "CATGCTACGGTGCTAAAAGCATTACGCCCTATAGTGATTTTCGAGACATACTGTGTTTTTAAATATAGTATTGCC\n",
      "|||||||||||||||||||||||||||||||||||||||||||||||||||||||||||||||||||||||||||\n",
      "CATGCTACGGTGCTAAAAGCATTACGCCCTATAGTGATTTTCGAGACATACTGTGTTTTTAAATATAGTATTGCC\n",
      "****Alignment****\n",
      "sequence: gi|2695885885|gb|OR084897.1| Zaire ebolavirus isolate Ebolavirus/H.sapiens-wt/COD/2020/Mbandaka-RDCEQT002140, partial genome\n",
      "length: 18832\n",
      "e value: 5.0901e-28\n",
      "CATGCTACGGTGCTAAAAGCATTACGCCCTATAGTGATTTTCGAGACATACTGTGTTTTTAAATATAGTATTGCC\n",
      "|||||||||||||||||||||||||||||||||||||||||||||||||||||||||||||||||||||||||||\n",
      "CATGCTACGGTGCTAAAAGCATTACGCCCTATAGTGATTTTCGAGACATACTGTGTTTTTAAATATAGTATTGCC\n",
      "****Alignment****\n",
      "sequence: gi|2695885875|gb|OR084896.1| Zaire ebolavirus isolate Ebolavirus/H.sapiens-wt/COD/2020/Mbandaka-RDCEQT002139, partial genome\n",
      "length: 18832\n",
      "e value: 5.0901e-28\n",
      "CATGCTACGGTGCTAAAAGCATTACGCCCTATAGTGATTTTCGAGACATACTGTGTTTTTAAATATAGTATTGCC\n",
      "|||||||||||||||||||||||||||||||||||||||||||||||||||||||||||||||||||||||||||\n",
      "CATGCTACGGTGCTAAAAGCATTACGCCCTATAGTGATTTTCGAGACATACTGTGTTTTTAAATATAGTATTGCC\n",
      "****Alignment****\n",
      "sequence: gi|2695885865|gb|OR084895.1| Zaire ebolavirus isolate Ebolavirus/H.sapiens-wt/COD/2020/Mbandaka-RDCEQT002138, partial genome\n",
      "length: 18532\n",
      "e value: 5.0901e-28\n",
      "CATGCTACGGTGCTAAAAGCATTACGCCCTATAGTGATTTTCGAGACATACTGTGTTTTTAAATATAGTATTGCC\n",
      "|||||||||||||||||||||||||||||||||||||||||||||||||||||||||||||||||||||||||||\n",
      "CATGCTACGGTGCTAAAAGCATTACGCCCTATAGTGATTTTCGAGACATACTGTGTTTTTAAATATAGTATTGCC\n",
      "****Alignment****\n",
      "sequence: gi|2695885855|gb|OR084894.1| Zaire ebolavirus isolate Ebolavirus/H.sapiens-wt/COD/2020/Mbandaka-RDCEQT002137, partial genome\n",
      "length: 18531\n",
      "e value: 5.0901e-28\n",
      "CATGCTACGGTGCTAAAAGCATTACGCCCTATAGTGATTTTCGAGACATACTGTGTTTTTAAATATAGTATTGCC\n",
      "|||||||||||||||||||||||||||||||||||||||||||||||||||||||||||||||||||||||||||\n",
      "CATGCTACGGTGCTAAAAGCATTACGCCCTATAGTGATTTTCGAGACATACTGTGTTTTTAAATATAGTATTGCC\n",
      "****Alignment****\n",
      "sequence: gi|2695885845|gb|OR084893.1| Zaire ebolavirus isolate Ebolavirus/H.sapiens-wt/COD/2020/Mbandaka-RDCEQT002136, partial genome\n",
      "length: 18532\n",
      "e value: 5.0901e-28\n",
      "CATGCTACGGTGCTAAAAGCATTACGCCCTATAGTGATTTTCGAGACATACTGTGTTTTTAAATATAGTATTGCC\n",
      "|||||||||||||||||||||||||||||||||||||||||||||||||||||||||||||||||||||||||||\n",
      "CATGCTACGGTGCTAAAAGCATTACGCCCTATAGTGATTTTCGAGACATACTGTGTTTTTAAATATAGTATTGCC\n",
      "****Alignment****\n",
      "sequence: gi|2695885835|gb|OR084892.1| Zaire ebolavirus isolate Ebolavirus/H.sapiens-wt/COD/2020/Mbandaka-RDCEQT002135, partial genome\n",
      "length: 18531\n",
      "e value: 5.0901e-28\n",
      "CATGCTACGGTGCTAAAAGCATTACGCCCTATAGTGATTTTCGAGACATACTGTGTTTTTAAATATAGTATTGCC\n",
      "|||||||||||||||||||||||||||||||||||||||||||||||||||||||||||||||||||||||||||\n",
      "CATGCTACGGTGCTAAAAGCATTACGCCCTATAGTGATTTTCGAGACATACTGTGTTTTTAAATATAGTATTGCC\n",
      "****Alignment****\n",
      "sequence: gi|2695885825|gb|OR084891.1| Zaire ebolavirus isolate Ebolavirus/H.sapiens-wt/COD/2020/Mbandaka-RDCEQT002134, partial genome\n",
      "length: 18532\n",
      "e value: 5.0901e-28\n",
      "CATGCTACGGTGCTAAAAGCATTACGCCCTATAGTGATTTTCGAGACATACTGTGTTTTTAAATATAGTATTGCC\n",
      "|||||||||||||||||||||||||||||||||||||||||||||||||||||||||||||||||||||||||||\n",
      "CATGCTACGGTGCTAAAAGCATTACGCCCTATAGTGATTTTCGAGACATACTGTGTTTTTAAATATAGTATTGCC\n",
      "****Alignment****\n",
      "sequence: gi|2695885815|gb|OR084890.1| Zaire ebolavirus isolate Ebolavirus/H.sapiens-wt/COD/2020/Mbandaka-RDCEQT002132, partial genome\n",
      "length: 18532\n",
      "e value: 5.0901e-28\n",
      "CATGCTACGGTGCTAAAAGCATTACGCCCTATAGTGATTTTCGAGACATACTGTGTTTTTAAATATAGTATTGCC\n",
      "|||||||||||||||||||||||||||||||||||||||||||||||||||||||||||||||||||||||||||\n",
      "CATGCTACGGTGCTAAAAGCATTACGCCCTATAGTGATTTTCGAGACATACTGTGTTTTTAAATATAGTATTGCC\n",
      "****Alignment****\n",
      "sequence: gi|2695885805|gb|OR084889.1| Zaire ebolavirus isolate Ebolavirus/H.sapiens-wt/COD/2020/Mbandaka-RDCEQT002130, partial genome\n",
      "length: 18832\n",
      "e value: 5.0901e-28\n",
      "CATGCTACGGTGCTAAAAGCATTACGCCCTATAGTGATTTTCGAGACATACTGTGTTTTTAAATATAGTATTGCC\n",
      "|||||||||||||||||||||||||||||||||||||||||||||||||||||||||||||||||||||||||||\n",
      "CATGCTACGGTGCTAAAAGCATTACGCCCTATAGTGATTTTCGAGACATACTGTGTTTTTAAATATAGTATTGCC\n",
      "****Alignment****\n",
      "sequence: gi|2695885795|gb|OR084888.1| Zaire ebolavirus isolate Ebolavirus/H.sapiens-wt/COD/2020/Mbandaka-RDCEQT002129, partial genome\n",
      "length: 18942\n",
      "e value: 5.0901e-28\n",
      "CATGCTACGGTGCTAAAAGCATTACGCCCTATAGTGATTTTCGAGACATACTGTGTTTTTAAATATAGTATTGCC\n",
      "|||||||||||||||||||||||||||||||||||||||||||||||||||||||||||||||||||||||||||\n",
      "CATGCTACGGTGCTAAAAGCATTACGCCCTATAGTGATTTTCGAGACATACTGTGTTTTTAAATATAGTATTGCC\n",
      "****Alignment****\n",
      "sequence: gi|2695885775|gb|OR084886.1| Zaire ebolavirus isolate Ebolavirus/H.sapiens-wt/COD/2020/Mbandaka-RDCEQT002127, partial genome\n",
      "length: 18220\n",
      "e value: 5.0901e-28\n",
      "CATGCTACGGTGCTAAAAGCATTACGCCCTATAGTGATTTTCGAGACATACTGTGTTTTTAAATATAGTATTGCC\n",
      "|||||||||||||||||||||||||||||||||||||||||||||||||||||||||||||||||||||||||||\n",
      "CATGCTACGGTGCTAAAAGCATTACGCCCTATAGTGATTTTCGAGACATACTGTGTTTTTAAATATAGTATTGCC\n",
      "****Alignment****\n",
      "sequence: gi|2695885755|gb|OR084884.1| Zaire ebolavirus isolate Ebolavirus/H.sapiens-wt/COD/2020/Mbandaka-RDCEQT002124, partial genome\n",
      "length: 18690\n",
      "e value: 5.0901e-28\n",
      "CATGCTACGGTGCTAAAAGCATTACGCCCTATAGTGATTTTCGAGACATACTGTGTTTTTAAATATAGTATTGCC\n",
      "|||||||||||||||||||||||||||||||||||||||||||||||||||||||||||||||||||||||||||\n",
      "CATGCTACGGTGCTAAAAGCATTACGCCCTATAGTGATTTTCGAGACATACTGTGTTTTTAAATATAGTATTGCC\n",
      "****Alignment****\n",
      "sequence: gi|2695885745|gb|OR084883.1| Zaire ebolavirus isolate Ebolavirus/H.sapiens-wt/COD/2020/Mbandaka-RDCEQT002123, partial genome\n",
      "length: 18832\n",
      "e value: 5.0901e-28\n",
      "CATGCTACGGTGCTAAAAGCATTACGCCCTATAGTGATTTTCGAGACATACTGTGTTTTTAAATATAGTATTGCC\n",
      "|||||||||||||||||||||||||||||||||||||||||||||||||||||||||||||||||||||||||||\n",
      "CATGCTACGGTGCTAAAAGCATTACGCCCTATAGTGATTTTCGAGACATACTGTGTTTTTAAATATAGTATTGCC\n",
      "****Alignment****\n",
      "sequence: gi|2695885725|gb|OR084881.1| Zaire ebolavirus isolate Ebolavirus/H.sapiens-wt/COD/2020/Mbandaka-RDCEQT002121, partial genome\n",
      "length: 18532\n",
      "e value: 5.0901e-28\n",
      "CATGCTACGGTGCTAAAAGCATTACGCCCTATAGTGATTTTCGAGACATACTGTGTTTTTAAATATAGTATTGCC\n",
      "|||||||||||||||||||||||||||||||||||||||||||||||||||||||||||||||||||||||||||\n",
      "CATGCTACGGTGCTAAAAGCATTACGCCCTATAGTGATTTTCGAGACATACTGTGTTTTTAAATATAGTATTGCC\n",
      "****Alignment****\n",
      "sequence: gi|2695885715|gb|OR084880.1| Zaire ebolavirus isolate Ebolavirus/H.sapiens-wt/COD/2020/Mbandaka-RDCEQT002119, partial genome >gi|2695885785|gb|OR084887.1| Zaire ebolavirus isolate Ebolavirus/H.sapiens-wt/COD/2020/Mbandaka-RDCEQT002128, partial genome\n",
      "length: 18832\n",
      "e value: 5.0901e-28\n",
      "CATGCTACGGTGCTAAAAGCATTACGCCCTATAGTGATTTTCGAGACATACTGTGTTTTTAAATATAGTATTGCC\n",
      "|||||||||||||||||||||||||||||||||||||||||||||||||||||||||||||||||||||||||||\n",
      "CATGCTACGGTGCTAAAAGCATTACGCCCTATAGTGATTTTCGAGACATACTGTGTTTTTAAATATAGTATTGCC\n",
      "****Alignment****\n",
      "sequence: gi|2695885695|gb|OR084878.1| Zaire ebolavirus isolate Ebolavirus/H.sapiens-wt/COD/2020/Mbandaka-RDCEQT002117, partial genome\n",
      "length: 18832\n",
      "e value: 5.0901e-28\n",
      "CATGCTACGGTGCTAAAAGCATTACGCCCTATAGTGATTTTCGAGACATACTGTGTTTTTAAATATAGTATTGCC\n",
      "|||||||||||||||||||||||||||||||||||||||||||||||||||||||||||||||||||||||||||\n",
      "CATGCTACGGTGCTAAAAGCATTACGCCCTATAGTGATTTTCGAGACATACTGTGTTTTTAAATATAGTATTGCC\n",
      "****Alignment****\n",
      "sequence: gi|2695885675|gb|OR084876.1| Zaire ebolavirus isolate Ebolavirus/H.sapiens-wt/COD/2020/Mbandaka-RDCEQT002112, partial genome\n",
      "length: 18531\n",
      "e value: 5.0901e-28\n",
      "CATGCTACGGTGCTAAAAGCATTACGCCCTATAGTGATTTTCGAGACATACTGTGTTTTTAAATATAGTATTGCC\n",
      "|||||||||||||||||||||||||||||||||||||||||||||||||||||||||||||||||||||||||||\n",
      "CATGCTACGGTGCTAAAAGCATTACGCCCTATAGTGATTTTCGAGACATACTGTGTTTTTAAATATAGTATTGCC\n",
      "****Alignment****\n",
      "sequence: gi|2695885665|gb|OR084875.1| Zaire ebolavirus isolate Ebolavirus/H.sapiens-wt/COD/2020/Mbandaka-RDCEQT002111, partial genome\n",
      "length: 18832\n",
      "e value: 5.0901e-28\n",
      "CATGCTACGGTGCTAAAAGCATTACGCCCTATAGTGATTTTCGAGACATACTGTGTTTTTAAATATAGTATTGCC\n",
      "|||||||||||||||||||||||||||||||||||||||||||||||||||||||||||||||||||||||||||\n",
      "CATGCTACGGTGCTAAAAGCATTACGCCCTATAGTGATTTTCGAGACATACTGTGTTTTTAAATATAGTATTGCC\n",
      "****Alignment****\n",
      "sequence: gi|2695885655|gb|OR084874.1| Zaire ebolavirus isolate Ebolavirus/H.sapiens-wt/COD/2020/Mbandaka-RDCEQT002107, partial genome\n",
      "length: 18832\n",
      "e value: 5.0901e-28\n",
      "CATGCTACGGTGCTAAAAGCATTACGCCCTATAGTGATTTTCGAGACATACTGTGTTTTTAAATATAGTATTGCC\n",
      "|||||||||||||||||||||||||||||||||||||||||||||||||||||||||||||||||||||||||||\n",
      "CATGCTACGGTGCTAAAAGCATTACGCCCTATAGTGATTTTCGAGACATACTGTGTTTTTAAATATAGTATTGCC\n",
      "****Alignment****\n",
      "sequence: gi|2695885645|gb|OR084873.1| Zaire ebolavirus isolate Ebolavirus/H.sapiens-wt/COD/2020/Mbandaka-RDCEQT002106, partial genome\n",
      "length: 18832\n",
      "e value: 5.0901e-28\n",
      "CATGCTACGGTGCTAAAAGCATTACGCCCTATAGTGATTTTCGAGACATACTGTGTTTTTAAATATAGTATTGCC\n",
      "|||||||||||||||||||||||||||||||||||||||||||||||||||||||||||||||||||||||||||\n",
      "CATGCTACGGTGCTAAAAGCATTACGCCCTATAGTGATTTTCGAGACATACTGTGTTTTTAAATATAGTATTGCC\n",
      "****Alignment****\n",
      "sequence: gi|2695885635|gb|OR084872.1| Zaire ebolavirus isolate Ebolavirus/H.sapiens-wt/COD/2020/Mbandaka-RDCEQT002103, partial genome\n",
      "length: 18832\n",
      "e value: 5.0901e-28\n",
      "CATGCTACGGTGCTAAAAGCATTACGCCCTATAGTGATTTTCGAGACATACTGTGTTTTTAAATATAGTATTGCC\n",
      "|||||||||||||||||||||||||||||||||||||||||||||||||||||||||||||||||||||||||||\n",
      "CATGCTACGGTGCTAAAAGCATTACGCCCTATAGTGATTTTCGAGACATACTGTGTTTTTAAATATAGTATTGCC\n",
      "****Alignment****\n",
      "sequence: gi|2695885625|gb|OR084871.1| Zaire ebolavirus isolate Ebolavirus/H.sapiens-wt/COD/2020/Mbandaka-RDCEQT002101, partial genome\n",
      "length: 18532\n",
      "e value: 5.0901e-28\n",
      "CATGCTACGGTGCTAAAAGCATTACGCCCTATAGTGATTTTCGAGACATACTGTGTTTTTAAATATAGTATTGCC\n",
      "|||||||||||||||||||||||||||||||||||||||||||||||||||||||||||||||||||||||||||\n",
      "CATGCTACGGTGCTAAAAGCATTACGCCCTATAGTGATTTTCGAGACATACTGTGTTTTTAAATATAGTATTGCC\n",
      "****Alignment****\n",
      "sequence: gi|2695885615|gb|OR084870.1| Zaire ebolavirus isolate Ebolavirus/H.sapiens-wt/COD/2020/Mbandaka-RDCEQT000869, partial genome\n",
      "length: 18532\n",
      "e value: 5.0901e-28\n",
      "CATGCTACGGTGCTAAAAGCATTACGCCCTATAGTGATTTTCGAGACATACTGTGTTTTTAAATATAGTATTGCC\n",
      "|||||||||||||||||||||||||||||||||||||||||||||||||||||||||||||||||||||||||||\n",
      "CATGCTACGGTGCTAAAAGCATTACGCCCTATAGTGATTTTCGAGACATACTGTGTTTTTAAATATAGTATTGCC\n",
      "****Alignment****\n",
      "sequence: gi|2695885605|gb|OR084869.1| Zaire ebolavirus isolate Ebolavirus/H.sapiens-wt/COD/2020/Mbandaka-RDCEQT000796, partial genome\n",
      "length: 18921\n",
      "e value: 5.0901e-28\n",
      "CATGCTACGGTGCTAAAAGCATTACGCCCTATAGTGATTTTCGAGACATACTGTGTTTTTAAATATAGTATTGCC\n",
      "|||||||||||||||||||||||||||||||||||||||||||||||||||||||||||||||||||||||||||\n",
      "CATGCTACGGTGCTAAAAGCATTACGCCCTATAGTGATTTTCGAGACATACTGTGTTTTTAAATATAGTATTGCC\n",
      "****Alignment****\n",
      "sequence: gi|2695885595|gb|OR084868.1| Zaire ebolavirus isolate Ebolavirus/H.sapiens-wt/COD/2020/Mbandaka-RDCEQT000617, partial genome\n",
      "length: 18532\n",
      "e value: 5.0901e-28\n",
      "CATGCTACGGTGCTAAAAGCATTACGCCCTATAGTGATTTTCGAGACATACTGTGTTTTTAAATATAGTATTGCC\n",
      "|||||||||||||||||||||||||||||||||||||||||||||||||||||||||||||||||||||||||||\n",
      "CATGCTACGGTGCTAAAAGCATTACGCCCTATAGTGATTTTCGAGACATACTGTGTTTTTAAATATAGTATTGCC\n"
     ]
    }
   ],
   "source": [
    "#To parse this BLAST output in a human readable way\n",
    "len(blast_record.alignments)\n",
    "E_VALUE_THRESH = 0.01\n",
    "for alignment in blast_record.alignments:\n",
    "    for hsp in alignment.hsps:\n",
    "        if hsp.expect < E_VALUE_THRESH:\n",
    "            print('****Alignment****')\n",
    "            print('sequence:', alignment.title)\n",
    "            print('length:', alignment.length)\n",
    "            print('e value:', hsp.expect)\n",
    "            print(hsp.query)\n",
    "            print(hsp.match)\n",
    "            print(hsp.sbjct)  "
   ]
  },
  {
   "cell_type": "code",
   "execution_count": 2,
   "id": "61cf50b0",
   "metadata": {},
   "outputs": [
    {
     "name": "stdout",
     "output_type": "stream",
     "text": [
      "seqs = ACTGACGT\n"
     ]
    }
   ],
   "source": [
    "#Joining strings\n",
    "seqs=['A','C','T','G','A','C','G','T']\n",
    "seqs=''.join(seqs)\n",
    "print('seqs =',seqs)"
   ]
  },
  {
   "cell_type": "code",
   "execution_count": 18,
   "id": "035711ca",
   "metadata": {},
   "outputs": [
    {
     "name": "stdout",
     "output_type": "stream",
     "text": [
      "CTGGCATTTT\n",
      "T,A,T,T,A,C,A,C,T,C\n"
     ]
    }
   ],
   "source": [
    "#import a random strings of dna seq into python\n",
    "import random\n",
    "#random.seed(7) #to keep the output constant\n",
    "random.choice('ACGT')\n",
    "\n",
    "#To generate a longer string\n",
    "seqs=''\n",
    "for i in range(10):\n",
    "    seqs +=random.choice('ACGT')\n",
    "print(seqs)\n",
    "\n",
    "#Another way\n",
    "seqs = ','.join([random.choice('ACGT') for _ in range(10)])\n",
    "print(seqs)"
   ]
  },
  {
   "cell_type": "code",
   "execution_count": 37,
   "id": "99bcc7d0",
   "metadata": {},
   "outputs": [
    {
     "data": {
      "text/plain": [
       "'ACGTTTAGTCGT'"
      ]
     },
     "execution_count": 37,
     "metadata": {},
     "output_type": "execute_result"
    }
   ],
   "source": [
    "#Longest common prefix between two strings of dna\n",
    "seq1='ACGTTTAGTCGTACCGGC'\n",
    "seq2='ACGTTTAGTCGTGGCCTATA'\n",
    "def longest(seq1,seq2):\n",
    "    i=0\n",
    "    while i<len(seq1) and i<len(seq2) and seq1[i]==seq2[i]:\n",
    "        i+=1\n",
    "    return seq1[:i]\n",
    "\n",
    "longest(seq1,seq2)"
   ]
  },
  {
   "cell_type": "code",
   "execution_count": 3,
   "id": "fb37ed63",
   "metadata": {},
   "outputs": [
    {
     "data": {
      "text/plain": [
       "True"
      ]
     },
     "execution_count": 3,
     "metadata": {},
     "output_type": "execute_result"
    }
   ],
   "source": [
    "# Find if two strings completely match\n",
    "def match(s1,s2):\n",
    "    if not len(s1)==len(s2):\n",
    "        return False\n",
    "    for i in range(len(s1)):\n",
    "        if not s1[i]==s2[i]:\n",
    "            return False\n",
    "    return True\n",
    "s1='AGCCTG'\n",
    "s2='AGCCTG'\n",
    "match(s1,s2)\n",
    "\n",
    "\n"
   ]
  },
  {
   "cell_type": "code",
   "execution_count": null,
   "id": "47f0f43e",
   "metadata": {},
   "outputs": [],
   "source": [
    "#To get the reverse complement of a string\n",
    "def revComplement(s1):\n",
    "    base_com={'A':'T','T':'A','G':'C','C':'G'}\n",
    "    t=''\n",
    "    for base in s1:\n",
    "        t=base_com[base]+t\n",
    "    return t\n",
    "revComplement('ATGCCGGT')"
   ]
  },
  {
   "cell_type": "code",
   "execution_count": 44,
   "id": "6c4686ff",
   "metadata": {},
   "outputs": [],
   "source": [
    "#Download a reference genome and parse it\n",
    "\n",
    "#!wget http://d28rh4a8wq0iu5.cloudfront.net/ads1/data/lambda_virus.fa"
   ]
  },
  {
   "cell_type": "code",
   "execution_count": 16,
   "id": "b81b6642",
   "metadata": {},
   "outputs": [
    {
     "data": {
      "text/plain": [
       "Counter({'G': 12820, 'C': 11362, 'A': 12334, 'T': 11986})"
      ]
     },
     "execution_count": 16,
     "metadata": {},
     "output_type": "execute_result"
    }
   ],
   "source": [
    "# Read a genome from a fasta file\n",
    "def readGenome(filename):\n",
    "    genome=''\n",
    "    with open(filename,'r') as f:\n",
    "        for line in f:\n",
    "            if not line[0]=='>':\n",
    "                genome+=line.rstrip() #rstrip removes empty spaces\n",
    "    return genome\n",
    "genome=readGenome('lambda_virus.fa')\n",
    "genome[:100]    \n",
    "\n",
    "#Count the fequency of each base in this genome\n",
    "def countFreq(file):\n",
    "    base_num={'A':0,'T':0,'G':0,'C':0}\n",
    "    for base in genome:\n",
    "        base_num[base]+=1\n",
    "    return base_num\n",
    "\n",
    "countFreq(genome)\n",
    "\n",
    "#Using python module to count\n",
    "import collections\n",
    "collections.Counter(genome)"
   ]
  },
  {
   "cell_type": "code",
   "execution_count": 11,
   "id": "6dfddbbb",
   "metadata": {},
   "outputs": [
    {
     "data": {
      "text/plain": [
       "48502"
      ]
     },
     "execution_count": 11,
     "metadata": {},
     "output_type": "execute_result"
    }
   ],
   "source": []
  },
  {
   "cell_type": "code",
   "execution_count": null,
   "id": "1a692094",
   "metadata": {},
   "outputs": [],
   "source": []
  }
 ],
 "metadata": {
  "kernelspec": {
   "display_name": "Python 3 (ipykernel)",
   "language": "python",
   "name": "python3"
  },
  "language_info": {
   "codemirror_mode": {
    "name": "ipython",
    "version": 3
   },
   "file_extension": ".py",
   "mimetype": "text/x-python",
   "name": "python",
   "nbconvert_exporter": "python",
   "pygments_lexer": "ipython3",
   "version": "3.9.7"
  }
 },
 "nbformat": 4,
 "nbformat_minor": 5
}
