{
 "cells": [
  {
   "cell_type": "code",
   "execution_count": 1,
   "id": "7a116dd3",
   "metadata": {},
   "outputs": [],
   "source": [
    "def readGenome(filename):\n",
    "    genome=''\n",
    "    with open(filename,'r') as f:\n",
    "        for line in f:\n",
    "            if not line[0]=='>':\n",
    "                genome+=line.rstrip() #rstrip removes empty spaces\n",
    "    return genome"
   ]
  },
  {
   "cell_type": "code",
   "execution_count": 2,
   "id": "1e852f37",
   "metadata": {},
   "outputs": [],
   "source": [
    "genome=readGenome('lambda_virus.fa')"
   ]
  },
  {
   "cell_type": "code",
   "execution_count": 3,
   "id": "3ad86c7e",
   "metadata": {},
   "outputs": [],
   "source": [
    "#Naive exact matching algorithm \n",
    "def naive(p,t):\n",
    "    occurences=[]\n",
    "    for i in range(len(t)-len(p)+1):\n",
    "        match=True\n",
    "        for j in range(len(p)):\n",
    "            if t[i+j]!=p[j]:\n",
    "                match=False\n",
    "                break\n",
    "        if match:\n",
    "            occurences.append(i)\n",
    "            \n",
    "    return occurences"
   ]
  },
  {
   "cell_type": "code",
   "execution_count": 4,
   "id": "bd0d069d",
   "metadata": {},
   "outputs": [],
   "source": [
    "def revComplement(s1):\n",
    "    base_com={'A':'T','T':'A','G':'C','C':'G','N':'N'}\n",
    "    t=''\n",
    "    for base in s1:\n",
    "        t=base_com[base]+t\n",
    "    return t"
   ]
  },
  {
   "cell_type": "code",
   "execution_count": 5,
   "id": "fcf9d434",
   "metadata": {},
   "outputs": [],
   "source": [
    "def readfastq(file):\n",
    "    sequences=[]\n",
    "    qualities=[]\n",
    "    with open(file) as fh:\n",
    "        while True:\n",
    "            fh.readline() #Ignore first line\n",
    "            seq=fh.readline().rstrip()\n",
    "            fh.readline() #Ignore third line\n",
    "            qual=fh.readline().rstrip()\n",
    "            if len(seq)==0: #If we have reached the end of the file and there are no more sequecnes to read, we will leave\n",
    "                break\n",
    "            sequences.append(seq) # else if they are non zero, we would append to our sequences and qualities lists\n",
    "            qualities.append(qual)\n",
    "    return sequences, qualities"
   ]
  },
  {
   "cell_type": "code",
   "execution_count": 19,
   "id": "eff1483c",
   "metadata": {},
   "outputs": [
    {
     "name": "stdout",
     "output_type": "stream",
     "text": [
      "390\n"
     ]
    }
   ],
   "source": [
    "#Q2\n",
    "r='TTAA'\n",
    "numMatched=0\n",
    "match=naive(r,genome)\n",
    "match.extend(naive(revComplement(r),genome))\n",
    "for i in match:\n",
    "    if len(match) > 0:\n",
    "        numMatched += 1\n",
    "print(numMatched)\n"
   ]
  },
  {
   "cell_type": "code",
   "execution_count": 25,
   "id": "02201a0e",
   "metadata": {},
   "outputs": [
    {
     "data": {
      "text/plain": [
       "26028"
      ]
     },
     "execution_count": 25,
     "metadata": {},
     "output_type": "execute_result"
    }
   ],
   "source": [
    "#Q3\n",
    "r='ACTAAGT'\n",
    "numMatched=0\n",
    "match=naive(revComplement(r),genome)\n",
    "match.extend(naive(revComplement(r),genome))\n",
    "min(match)"
   ]
  },
  {
   "cell_type": "code",
   "execution_count": 26,
   "id": "82561942",
   "metadata": {},
   "outputs": [
    {
     "data": {
      "text/plain": [
       "450"
      ]
     },
     "execution_count": 26,
     "metadata": {},
     "output_type": "execute_result"
    }
   ],
   "source": [
    "#Q4\n",
    "r='AGTCGA'\n",
    "numMatched=0\n",
    "match=naive(revComplement(r),genome)\n",
    "match.extend(naive(revComplement(r),genome))\n",
    "min(match)"
   ]
  },
  {
   "cell_type": "code",
   "execution_count": 30,
   "id": "42c1f7f2",
   "metadata": {},
   "outputs": [],
   "source": [
    "#Q5\n",
    "def naive_2mm(p,t):\n",
    "    occurences=[]\n",
    "    for i in range(len(t)-len(p)+1):\n",
    "        count_mismatches=0\n",
    "        for j in range(len(p)):\n",
    "            if t[i+j]!=p[j]:\n",
    "                count_mismatches += 1\n",
    "            if count_mismatches >2:\n",
    "                break\n",
    "        if count_mismatches <=2:\n",
    "            occurences.append(i)       \n",
    "    return occurences"
   ]
  },
  {
   "cell_type": "code",
   "execution_count": 31,
   "id": "897bdc61",
   "metadata": {},
   "outputs": [
    {
     "data": {
      "text/plain": [
       "[0, 4]"
      ]
     },
     "execution_count": 31,
     "metadata": {},
     "output_type": "execute_result"
    }
   ],
   "source": [
    "naive_2mm('ACTTTA', 'ACTTACTTGATAAAGT')"
   ]
  },
  {
   "cell_type": "code",
   "execution_count": 37,
   "id": "32af9718",
   "metadata": {},
   "outputs": [
    {
     "data": {
      "text/plain": [
       "45"
      ]
     },
     "execution_count": 37,
     "metadata": {},
     "output_type": "execute_result"
    }
   ],
   "source": [
    "min(naive_2mm('TTCAAGCC',genome))\n"
   ]
  },
  {
   "cell_type": "code",
   "execution_count": 35,
   "id": "0dd0c2fe",
   "metadata": {},
   "outputs": [
    {
     "data": {
      "text/plain": [
       "49"
      ]
     },
     "execution_count": 35,
     "metadata": {},
     "output_type": "execute_result"
    }
   ],
   "source": [
    "min(naive_2mm('AGGAGGTT',genome))"
   ]
  },
  {
   "cell_type": "code",
   "execution_count": null,
   "id": "c824dd4e",
   "metadata": {},
   "outputs": [],
   "source": [
    "#Q6"
   ]
  }
 ],
 "metadata": {
  "kernelspec": {
   "display_name": "Python 3 (ipykernel)",
   "language": "python",
   "name": "python3"
  },
  "language_info": {
   "codemirror_mode": {
    "name": "ipython",
    "version": 3
   },
   "file_extension": ".py",
   "mimetype": "text/x-python",
   "name": "python",
   "nbconvert_exporter": "python",
   "pygments_lexer": "ipython3",
   "version": "3.9.7"
  }
 },
 "nbformat": 4,
 "nbformat_minor": 5
}
